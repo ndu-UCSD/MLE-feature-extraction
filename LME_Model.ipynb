{
 "cells": [
  {
   "cell_type": "code",
   "execution_count": 1,
   "metadata": {},
   "outputs": [],
   "source": [
    "# LME_Model.ipynb - Linear Mixed Effect model for picking genes associated with experimental factors\n",
    "\n",
    "# Version: N/A (8/23/2018)\n",
    "\n",
    "# Niu Du (dniu [at] jcvi.org)\n",
    "# J. Craig Venter Institute (JCVI)\n",
    "# La Jolla, CA USA\n",
    "\n",
    "# User environments\n",
    "# python 3.5.4 \n",
    "# pandas 0.23.1\n",
    "# numpy 1.12.1\n",
    "# read_dataframe - Function custom defined\n",
    "# rpy2 2.9.4\n",
    "# R 3.4.1\n",
    "# lme4 1.1-17\n",
    "# lmerTest 3.0-1\n",
    "# lawstat 3.2"
   ]
  },
  {
   "cell_type": "code",
   "execution_count": 10,
   "metadata": {},
   "outputs": [],
   "source": [
    "import pandas as pd\n",
    "import numpy as np\n",
    "import rpy2\n",
    "import time\n",
    "import os\n",
    "import warnings\n",
    "warnings.filterwarnings(\"ignore\")"
   ]
  },
  {
   "cell_type": "code",
   "execution_count": 13,
   "metadata": {},
   "outputs": [],
   "source": [
    "def Model_test(Fixed_factors,metadata,count_table,Sample_list): \n",
    "    \n",
    "    %load_ext rpy2.ipython\n",
    "    %R require(lme4);\n",
    "    %R require(lmerTest);\n",
    "    %R require(lawstat);\n",
    "    \n",
    "    # This function allows the test of mixed effect model for 3-4 factors with one random factor (family), \n",
    "    # and output the following parameters of linear model for each gene and fixed factor;\n",
    "    # 1. Coefficient 2. Error 3. t value 4. p value (< threshold for significant correlation) 5. Heteroscedasticity of linear regression \n",
    "    # Fixed_factors - list of column names in metadata file;\n",
    "    # metadata - pandas dataframe, sample ids in index and factors in columns;\n",
    "    # count_table - pandas dataframe, samples in index and genes in colums;\n",
    "    # Sample_list - list of ids that are selected for model test;\n",
    "\n",
    "    Fixed_list = ['Intercept']+Fixed_factors\n",
    "    list_0 = ['Coeff_'+x for x in Fixed_list]\n",
    "    list_a = ['Err_'+ x for x in Fixed_list]\n",
    "    list_b = ['t_value_'+ x for x in Fixed_list]\n",
    "    list_c = ['Pr>|t|_'+ x for x in Fixed_list]\n",
    "    list_d = ['Levene_'+x for x in Fixed_factors]\n",
    "    Output_list = list_0+list_a+list_b+list_c+list_d\n",
    "    \n",
    "    Stat_result = pd.DataFrame(index = Output_list)\n",
    "    df = metadata.loc[Sample_list].dropna()[Fixed_factors+['family']]\n",
    "    df_counts = count_table.loc[df.index] \n",
    "    \n",
    "    if len(Fixed_factors) == 3:\n",
    "        \n",
    "        for gene_ids in df_counts.columns:\n",
    "            counts = df_counts[[gene_ids]]\n",
    "            %R -i df\n",
    "            %R -i counts\n",
    "            %R mb = lmer(counts[[1]]~df[[1]]+df[[2]]+df[[3]]+(1|df[['family']]));\n",
    "            %R stat = c(coef(summary(mb)), levene.test(counts[[1]],df[[1]])$p.value,levene.test(counts[[1]],df[[2]])$p.value,levene.test(counts[[1]],df[[3]])$p.value);\n",
    "            %R -o stat\n",
    "            Stat_result[gene_ids] = list(stat)[:8]+list(stat)[-11:]\n",
    "        \n",
    "    elif len(Fixed_factors) == 4:\n",
    "        \n",
    "        for gene_ids in df_counts.columns:\n",
    "            counts = df_counts[[gene_ids]]\n",
    "            %R -i df\n",
    "            %R -i counts\n",
    "            %R mb = lmer(counts[[1]]~df[[1]]+df[[2]]+df[[3]]+df[[4]]+(1|df[['family']]));\n",
    "            %R stat = c(coef(summary(mb)), levene.test(counts[[1]],df[[1]])$p.value,levene.test(counts[[1]],df[[2]])$p.value,levene.test(counts[[1]],df[[3]])$p.value,levene.test(counts[[1]],df[[4]])$p.value);\n",
    "            %R -o stat\n",
    "            Stat_result[str(gene_ids)] = list(stat)[:10]+list(stat)[-14:]\n",
    "        \n",
    "    return Stat_result"
   ]
  },
  {
   "cell_type": "code",
   "execution_count": 4,
   "metadata": {},
   "outputs": [],
   "source": [
    "metadata = pd.read_csv('caries_metadata.tsv',sep='\\t').set_index('SubjectID')"
   ]
  },
  {
   "cell_type": "code",
   "execution_count": null,
   "metadata": {},
   "outputs": [],
   "source": [
    "df_caries = read_dataframe('caries.fpkm.tsv');"
   ]
  },
  {
   "cell_type": "code",
   "execution_count": null,
   "metadata": {},
   "outputs": [],
   "source": [
    "Result = Model_test(['Age', 'Sex','center','caries'],metadata,df_caries[df_caries.columns],list(df_caries.index))"
   ]
  },
  {
   "cell_type": "code",
   "execution_count": 20,
   "metadata": {},
   "outputs": [],
   "source": [
    "Result.to_pickle('Model_results/fpkm_121418.pkl')"
   ]
  },
  {
   "cell_type": "code",
   "execution_count": null,
   "metadata": {},
   "outputs": [],
   "source": []
  }
 ],
 "metadata": {
  "kernelspec": {
   "display_name": "Python 3",
   "language": "python",
   "name": "python3"
  },
  "language_info": {
   "codemirror_mode": {
    "name": "ipython",
    "version": 3
   },
   "file_extension": ".py",
   "mimetype": "text/x-python",
   "name": "python",
   "nbconvert_exporter": "python",
   "pygments_lexer": "ipython3",
   "version": "3.5.4"
  }
 },
 "nbformat": 4,
 "nbformat_minor": 2
}
